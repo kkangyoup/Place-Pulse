{
  "cells": [
    {
      "cell_type": "code",
      "source": [
        "# ─── Colab Bootstrap (updated) ─────────────────────────────────────────────\n",
        "import sys, os\n",
        "\n",
        "if 'google.colab' in sys.modules:\n",
        "    # 1. Download your repo as a ZIP\n",
        "    !wget -q https://github.com/bobyellow/FlowLISA/archive/refs/heads/main.zip -O FlowLISA.zip\n",
        "    # 2. Unzip it\n",
        "    !unzip -q FlowLISA.zip\n",
        "    # 3. Change into the extracted folder\n",
        "    %cd FlowLISA-main\n",
        "\n",
        "# 4. Ensure Python sees local modules\n",
        "sys.path.insert(0, '.')\n",
        "\n",
        "# Sanity check\n",
        "print(\"Working dir:\", os.getcwd())\n",
        "print(\"Contents:\", os.listdir('.'))\n",
        "print(\"core/ present?\", os.path.isdir('core'))\n"
      ],
      "metadata": {
        "id": "AHLMyexx4hlc",
        "outputId": "8377559c-525c-4e96-f228-701f275bd8d8",
        "colab": {
          "base_uri": "https://localhost:8080/"
        }
      },
      "id": "AHLMyexx4hlc",
      "execution_count": 1,
      "outputs": [
        {
          "output_type": "stream",
          "name": "stdout",
          "text": [
            "/content/FlowLISA-main\n",
            "Working dir: /content/FlowLISA-main\n",
            "Contents: ['core', '__pycache__', 'result', 'LICENSE', 'input', 'FlowLISA_main.py', 'README.md', 'FlowLISA_main.ipynb']\n",
            "core/ present? True\n"
          ]
        }
      ]
    },
    {
      "cell_type": "code",
      "source": [
        "import geopandas as gpd\n",
        "from libpysal.weights import Queen\n",
        "import pandas as pd\n",
        "\n",
        "shp_path = '/content/FlowLISA-main/input/capital.shp'\n",
        "csv_path = '/content/FlowLISA-main/input/converted_flow.txt'   # flow 데이터의 경로로 수정!\n",
        "\n",
        "gdf = gpd.read_file(shp_path)\n",
        "df_flow = pd.read_csv(csv_path, encoding='utf-8')\n",
        "\n"
      ],
      "metadata": {
        "id": "yiCJif-AZ2Sa"
      },
      "id": "yiCJif-AZ2Sa",
      "execution_count": 8,
      "outputs": []
    },
    {
      "cell_type": "code",
      "source": [
        "import geopandas as gpd\n",
        "import pandas as pd\n",
        "\n",
        "# 1. shp 파일에서 Polygon 순서(index) <-> ADM_CD_10 코드 mapping\n",
        "gdf = gpd.read_file('/content/FlowLISA-main/input/capital.shp')\n",
        "code_list = gdf['ADM_CD_10'].tolist()  # Polygon 인덱스와 1:1\n",
        "\n",
        "code_to_index = {code: idx for idx, code in enumerate(code_list)}\n",
        "\n",
        "# 2. flow 파일 로딩 (converted_flow.txt)\n",
        "df_flow = pd.read_csv('/content/FlowLISA-main/input/converted_flow.txt', sep='\\t')  # 또는 sep=',', encoding='utf-8'\n",
        "\n",
        "# 3. (O, D) 코드 → (O_index, D_index) 변환\n",
        "df_flow['O_idx'] = df_flow['O'].map(code_to_index)\n",
        "df_flow['D_idx'] = df_flow['D'].map(code_to_index)\n",
        "df_flow = df_flow.rename(columns={'Flow': 'V'})\n",
        "\n",
        "# 4. \"shp에 없는 코드\" (매칭 불가) 제거\n",
        "df_flow_valid = df_flow.dropna(subset=['O_idx', 'D_idx']).copy()\n",
        "\n",
        "# 5. flow_dict 생성\n",
        "\n",
        "# KeyError: 'V'가 절대 발생하지 않습니다!\n",
        "flow_dict = {\n",
        "    (int(row['O_idx']), int(row['D_idx'])): [row['V']]\n",
        "    for _, row in df_flow_valid.iterrows() if row['V'] > 0\n",
        "}\n"
      ],
      "metadata": {
        "id": "LFkfPyh4aa3M"
      },
      "id": "LFkfPyh4aa3M",
      "execution_count": 17,
      "outputs": []
    },
    {
      "cell_type": "code",
      "source": [
        "# 1. 인접성 분석으로 이웃 없는 섬 지역 찾기 (index가 아니라 ADM_CD_10 기준!)\n",
        "w = Queen.from_dataframe(gdf)\n",
        "# w.neighbors의 key는 gdf의 0-based index이므로,\n",
        "# 이 index를 ADM_CD_10 코드로 mapping 해야 함\n",
        "index_to_code = gdf['ADM_CD_10'].reset_index(drop=True)\n",
        "islands_idx = [i for i, neighbors in w.neighbors.items() if len(neighbors) == 0]\n",
        "islands_code = set(index_to_code.iloc[islands_idx])\n",
        "\n",
        "print('이웃 없는 섬 지역 코드:', islands_code)\n",
        "\n",
        "# 2. 섬 지역 제외 (gdf, flow 모두)\n",
        "gdf_noisland = gdf[~gdf['ADM_CD_10'].isin(islands_code)].copy()\n",
        "df_flow_noisland = df_flow[~df_flow['O'].isin(islands_code) & ~df_flow['D'].isin(islands_code)].copy()\n",
        "\n",
        "# 3. AREAS 생성 (Polygon 좌표 리스트)\n",
        "from shapely.geometry import Polygon, MultiPolygon\n",
        "def to_pyshp_coords(geom):\n",
        "    if isinstance(geom, Polygon):\n",
        "        return [list(geom.exterior.coords)]\n",
        "    elif isinstance(geom, MultiPolygon):\n",
        "        return [list(poly.exterior.coords) for poly in geom.geoms]\n",
        "    else:\n",
        "        raise ValueError(\"Unsupported geometry type:\", type(geom))\n",
        "\n",
        "AREAS = [to_pyshp_coords(geom) for geom in gdf.geometry]\n",
        "\n",
        "\n",
        "# 4. flow_dict 생성 (O, D는 코드)\n",
        "flow_dict = {(row['O'], row['D']): [row['V']] for _, row in df_flow_noisland.iterrows() if row['V'] > 0}\n"
      ],
      "metadata": {
        "id": "4wnHPbh0aZQ6",
        "outputId": "74fd99d7-e3f2-4eae-cfd8-0341c5a4cd90",
        "colab": {
          "base_uri": "https://localhost:8080/"
        }
      },
      "id": "4wnHPbh0aZQ6",
      "execution_count": 18,
      "outputs": [
        {
          "output_type": "stream",
          "name": "stderr",
          "text": [
            "/tmp/ipython-input-18-2758837852.py:2: FutureWarning: `use_index` defaults to False but will default to True in future. Set True/False directly to control this behavior and silence this warning\n",
            "  w = Queen.from_dataframe(gdf)\n",
            "/usr/local/lib/python3.11/dist-packages/libpysal/weights/contiguity.py:347: UserWarning: The weights matrix is not fully connected: \n",
            " There are 14 disconnected components.\n",
            " There are 11 islands with ids: 367, 560, 561, 562, 563, 564, 567, 568, 608, 609, 610.\n",
            "  W.__init__(self, neighbors, ids=ids, **kw)\n"
          ]
        },
        {
          "output_type": "stream",
          "name": "stdout",
          "text": [
            "이웃 없는 섬 지역 코드: {2872036000.0, 2871040000.0, 4127361000.0, 2872033000.0, 2872037000.0, 2871041000.0, 2872035000.0, 2872038000.0, 2872034000.0, 2871042000.0, 2872031000.0}\n"
          ]
        }
      ]
    },
    {
      "cell_type": "code",
      "execution_count": 2,
      "id": "27998f93",
      "metadata": {
        "id": "27998f93",
        "outputId": "481d1ba6-0724-4952-fdbf-8465f54decfa",
        "colab": {
          "base_uri": "https://localhost:8080/",
          "height": 349
        }
      },
      "outputs": [
        {
          "output_type": "stream",
          "name": "stdout",
          "text": [
            "Obtain O & D neighbors by contiguity (Rook or Queen)\n"
          ]
        },
        {
          "output_type": "error",
          "ename": "IndexError",
          "evalue": "list index out of range",
          "traceback": [
            "\u001b[0;31m---------------------------------------------------------------------------\u001b[0m",
            "\u001b[0;31mIndexError\u001b[0m                                Traceback (most recent call last)",
            "\u001b[0;32m/tmp/ipython-input-2-1416168831.py\u001b[0m in \u001b[0;36m<cell line: 0>\u001b[0;34m()\u001b[0m\n\u001b[1;32m     24\u001b[0m \u001b[0;34m\u001b[0m\u001b[0m\n\u001b[1;32m     25\u001b[0m \u001b[0;31m# Execute FlowLISA function\u001b[0m\u001b[0;34m\u001b[0m\u001b[0;34m\u001b[0m\u001b[0m\n\u001b[0;32m---> 26\u001b[0;31m \u001b[0moutputStr\u001b[0m \u001b[0;34m=\u001b[0m \u001b[0mexecFLOWLISA\u001b[0m\u001b[0;34m(\u001b[0m\u001b[0mAREAS1\u001b[0m\u001b[0;34m,\u001b[0m \u001b[0mAREAS2\u001b[0m\u001b[0;34m,\u001b[0m \u001b[0mF_dt1\u001b[0m\u001b[0;34m,\u001b[0m \u001b[0;36m1\u001b[0m\u001b[0;34m,\u001b[0m \u001b[0;36m120\u001b[0m\u001b[0;34m)\u001b[0m\u001b[0;34m\u001b[0m\u001b[0;34m\u001b[0m\u001b[0m\n\u001b[0m\u001b[1;32m     27\u001b[0m \"\"\"\n\u001b[1;32m     28\u001b[0m     \u001b[0mExecute\u001b[0m \u001b[0mFlowLISA\u001b[0m \u001b[0mto\u001b[0m \u001b[0manalyze\u001b[0m \u001b[0mspatial\u001b[0m \u001b[0mautocorrelation\u001b[0m \u001b[0;32min\u001b[0m \u001b[0munivariate\u001b[0m \u001b[0mflow\u001b[0m \u001b[0mdata\u001b[0m\u001b[0;34m\u001b[0m\u001b[0;34m\u001b[0m\u001b[0m\n",
            "\u001b[0;32m/content/FlowLISA-main/core/FlowLISA.py\u001b[0m in \u001b[0;36mexecFLOWLISA\u001b[0;34m(AREAS1, AREAS2, FlowValue, Spatstat, NeiLvl)\u001b[0m\n\u001b[1;32m    103\u001b[0m         \u001b[0moutput_str_list\u001b[0m\u001b[0;34m.\u001b[0m\u001b[0mappend\u001b[0m\u001b[0;34m(\u001b[0m\u001b[0;34m'O, D, V, MoranI, p-value, pattern'\u001b[0m\u001b[0;34m)\u001b[0m\u001b[0;34m\u001b[0m\u001b[0;34m\u001b[0m\u001b[0m\n\u001b[1;32m    104\u001b[0m         \u001b[0;32mfor\u001b[0m \u001b[0mk\u001b[0m\u001b[0;34m,\u001b[0m \u001b[0mv\u001b[0m \u001b[0;32min\u001b[0m \u001b[0myOutput\u001b[0m\u001b[0;34m.\u001b[0m\u001b[0mitems\u001b[0m\u001b[0;34m(\u001b[0m\u001b[0;34m)\u001b[0m\u001b[0;34m:\u001b[0m\u001b[0;34m\u001b[0m\u001b[0;34m\u001b[0m\u001b[0m\n\u001b[0;32m--> 105\u001b[0;31m             \u001b[0mv\u001b[0m\u001b[0;34m[\u001b[0m\u001b[0;36m2\u001b[0m\u001b[0;34m]\u001b[0m \u001b[0;34m/=\u001b[0m \u001b[0;36m1000.0\u001b[0m\u001b[0;34m\u001b[0m\u001b[0;34m\u001b[0m\u001b[0m\n\u001b[0m\u001b[1;32m    106\u001b[0m             \u001b[0msignificance\u001b[0m \u001b[0;34m=\u001b[0m \u001b[0;34m\"NS\"\u001b[0m\u001b[0;34m\u001b[0m\u001b[0;34m\u001b[0m\u001b[0m\n\u001b[1;32m    107\u001b[0m             \u001b[0;32mif\u001b[0m \u001b[0mv\u001b[0m\u001b[0;34m[\u001b[0m\u001b[0;36m1\u001b[0m\u001b[0;34m]\u001b[0m \u001b[0;34m!=\u001b[0m \u001b[0;36m0\u001b[0m \u001b[0;32mor\u001b[0m \u001b[0mv\u001b[0m\u001b[0;34m[\u001b[0m\u001b[0;36m2\u001b[0m\u001b[0;34m]\u001b[0m \u001b[0;34m!=\u001b[0m \u001b[0;36m0\u001b[0m\u001b[0;34m:\u001b[0m\u001b[0;34m\u001b[0m\u001b[0;34m\u001b[0m\u001b[0m\n",
            "\u001b[0;31mIndexError\u001b[0m: list index out of range"
          ]
        }
      ],
      "source": [
        "import os\n",
        "import core.shapefile\n",
        "import pandas as pd\n",
        "from core.FlowLISA import execFLOWLISA\n",
        "\n",
        "# 1. 경로 설정 (Colab 업로드된 경로로)\n",
        "shp_path = '/mnt/data/capital.shp'\n",
        "flow_path = '/mnt/data/converted_flow.txt'\n",
        "\n",
        "# 2. shp 파일에서 polygon 순서(index) ↔ ADM_CD_10 코드 mapping\n",
        "StationPolygon = core.shapefile.Reader(shp_path)\n",
        "shapes = StationPolygon.shapes()\n",
        "records = StationPolygon.records()  # 속성값 접근\n",
        "\n",
        "# 속성 테이블에서 ADM_CD_10이 몇번째 컬럼인지 확인\n",
        "fields = StationPolygon.fields[1:]  # 첫번째 필드는 삭제해야함\n",
        "field_names = [f[0] for f in fields]\n",
        "adm_idx = field_names.index('ADM_CD_10')\n",
        "code_list = [r[adm_idx] for r in records]  # Polygon 인덱스 → 코드\n",
        "code_to_index = {code: idx for idx, code in enumerate(code_list)}\n",
        "\n",
        "# 3. flow 데이터 읽고, (O, D)코드를 (O_index, D_index)로 변환\n",
        "df_flow = pd.read_csv(flow_path, sep='\\t')  # 컬럼: O, D, Flow\n",
        "\n",
        "df_flow['O_idx'] = df_flow['O'].map(code_to_index)\n",
        "df_flow['D_idx'] = df_flow['D'].map(code_to_index)\n",
        "\n",
        "df_flow_valid = df_flow.dropna(subset=['O_idx', 'D_idx']).copy()\n",
        "df_flow_valid = df_flow_valid[df_flow_valid['Flow'] > 0]  # 0 flow 제거\n",
        "\n",
        "# 4. flow dict: (O_index, D_index): [Flow]\n",
        "F_dt1 = {\n",
        "    (int(row['O_idx']), int(row['D_idx'])): [row['Flow']]\n",
        "    for _, row in df_flow_valid.iterrows()\n",
        "}\n",
        "\n",
        "# 5. AREAS 구조는 예제와 동일하게 polygon points 리스트\n",
        "AREAS = [[shape.points] for shape in shapes]\n",
        "\n",
        "# 6. FlowLISA 실행\n",
        "outputStr = execFLOWLISA(AREAS, AREAS, F_dt1, 1, 120)\n",
        "\n",
        "# 7. 결과 저장\n",
        "output_dir = '/mnt/data/result'\n",
        "os.makedirs(output_dir, exist_ok=True)\n",
        "output_filename = os.path.join(output_dir, 'FlowLISA_I_result.txt')\n",
        "with open(output_filename, 'w') as outputFile:\n",
        "    outputFile.write(outputStr)\n",
        "\n",
        "print(f\"Processing complete. Results saved to {output_filename}\")\n"
      ]
    }
  ],
  "metadata": {
    "colab": {
      "provenance": []
    },
    "language_info": {
      "name": "python"
    },
    "kernelspec": {
      "name": "python3",
      "display_name": "Python 3"
    }
  },
  "nbformat": 4,
  "nbformat_minor": 5
}